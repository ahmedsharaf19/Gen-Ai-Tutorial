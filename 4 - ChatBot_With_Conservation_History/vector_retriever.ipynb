{
 "cells": [
  {
   "cell_type": "markdown",
   "id": "d7dea7f1",
   "metadata": {},
   "source": [
    "<div dir=\"rtl\">\n",
    "\n",
    "# 🟢 Vector Stores و Retrievers في LangChain\n",
    "\n",
    "## ✅ مقدمة:\n",
    "هذا الشرح يوضح لك فكرة **vector store** و **retriever** في LangChain.  \n",
    "هما بيبقوا طبقات (abstractions) هدفها تسهيل استرجاع البيانات من قواعد بيانات vector أو أي مصدر خارجي، ودمجها في سير عمل الـ LLM (النموذج اللغوي).\n",
    "\n",
    "💡 دا مهم جدًا في التطبيقات اللي بتحتاج تجيب بيانات وتربطها بالردود زي **retrieval-augmented generation (RAG)**.\n",
    "\n",
    "---\n",
    "\n",
    "## ✅ سنتعلم:\n",
    "### 1️⃣ Documents (المستندات)\n",
    "- هي وحدات البيانات النصية اللي بنخزنها في الـ vector store.\n",
    "- كل Document بيبقى فيه نص (content) و metadata (زي العنوان، المصدر، الوقت).\n",
    "\n",
    "### 2️⃣ Vector Stores (مخازن المتجهات)\n",
    "- قواعد بيانات بتخزن الـ Documents بعد تحويلها لتمثيل عددي (vectors).\n",
    "- الهدف منها: البحث السريع والتطابق في الفضاء المتجهي.\n",
    "- أمثلة: **FAISS, Pinecone, Chroma, Weaviate**.\n",
    "\n",
    "### 3️⃣ Retrievers (المسترجعات)\n",
    "- أدوات وظيفتها **البحث عن الوثائق الأقرب** (top-K) بناءً على استعلام المستخدم.\n",
    "- بتاخد سؤالك → بتحوله لـ vector → بتدور على الوثائق المشابهة → بترجع النتائج.\n",
    "- بتساعد الموديل يجاوب بشكل مدعوم بمعلومات حقيقية (Grounded answers).\n",
    "\n",
    "---\n",
    "\n",
    "## ✅ الخلاصة:\n",
    "> Vector Stores = مكان بنخزن فيه التمثيلات العددية للنصوص.  \n",
    "> Retrievers = أداة بترجعلك النصوص الأقرب لاستفسارك.\n",
    "\n",
    "</div>\n"
   ]
  },
  {
   "cell_type": "code",
   "execution_count": 1,
   "id": "b911142d",
   "metadata": {},
   "outputs": [
    {
     "data": {
      "text/plain": [
       "True"
      ]
     },
     "execution_count": 1,
     "metadata": {},
     "output_type": "execute_result"
    }
   ],
   "source": [
    "import os\n",
    "from dotenv import load_dotenv\n",
    "load_dotenv()"
   ]
  },
  {
   "cell_type": "code",
   "execution_count": 3,
   "id": "b9da7ace",
   "metadata": {},
   "outputs": [
    {
     "data": {
      "text/plain": [
       "ChatGroq(client=<groq.resources.chat.completions.Completions object at 0x000002065B263B60>, async_client=<groq.resources.chat.completions.AsyncCompletions object at 0x000002065B290C50>, model_name='Llama3-8b-8192', model_kwargs={}, groq_api_key=SecretStr('**********'))"
      ]
     },
     "execution_count": 3,
     "metadata": {},
     "output_type": "execute_result"
    }
   ],
   "source": [
    "os.environ[\"HF_TOKEN\"]=os.getenv(\"HF_TOKEN\")\n",
    "groq_api_key = os.getenv('GROQ_API_KEY')\n",
    "from langchain_groq import ChatGroq\n",
    "\n",
    "model = ChatGroq(model = 'Llama3-8b-8192', groq_api_key= groq_api_key)\n",
    "model"
   ]
  },
  {
   "cell_type": "markdown",
   "id": "005d012a",
   "metadata": {},
   "source": [
    "<div dir=\"rtl\">\n",
    "\n",
    "# 📄 Documents في LangChain\n",
    "\n",
    "## ✅ ما هو الـ Document؟\n",
    "في LangChain، الـ **Document** هو abstraction (طبقة تجريدية) بتمثل وحدة من النص ومعاها بيانات إضافية (metadata).\n",
    "\n",
    "## ✅ يتكون من حاجتين رئيسيتين:\n",
    "| الخاصية | الوصف |\n",
    "|----------|-------|\n",
    "| `page_content` | نص عادي بيمثل محتوى الوثيقة (string) |\n",
    "| `metadata`     | قاموس (dict) فيه معلومات إضافية عن الوثيقة (زي المصدر، العلاقة بوثائق تانية... إلخ) |\n",
    "\n",
    "🔹 الـ metadata ممكن تحتوي على:\n",
    "- مصدر الوثيقة\n",
    "- علاقاتها بوثائق تانية\n",
    "- أي معلومات توضيحية إضافية\n",
    "\n",
    "⚠️ ملحوظة:  \n",
    "غالبًا الـ Document الواحد بيمثل **جزء (chunk)** من وثيقة أكبر.\n",
    "\n",
    "---"
   ]
  },
  {
   "cell_type": "code",
   "execution_count": 2,
   "id": "d8915fa8",
   "metadata": {},
   "outputs": [
    {
     "data": {
      "text/plain": [
       "[Document(metadata={'source': 'mammal-pets-doc'}, page_content='Dogs are great companions, know for their loyalty and friendliness.'),\n",
       " Document(metadata={'source': 'mammal-pets-doc'}, page_content='Cats are independent pets that often enjoy their own space.'),\n",
       " Document(metadata={'source': 'fish-pets-doc'}, page_content='Goldfish are popular pets for beginners, requiring relatively simple care.'),\n",
       " Document(metadata={'source': 'bird-pets-doc'}, page_content='Parrots are intelligent birds capable of mimicking human speech.'),\n",
       " Document(metadata={'source': 'mammal-pets-doc'}, page_content='Rabbits are social animals that need plenty of space to hop around.')]"
      ]
     },
     "execution_count": 2,
     "metadata": {},
     "output_type": "execute_result"
    }
   ],
   "source": [
    "from langchain_core.documents import Document\n",
    "\n",
    "documents = [\n",
    "    Document(\n",
    "        page_content='Dogs are great companions, know for their loyalty and friendliness.',\n",
    "        metadata = {'source': 'mammal-pets-doc'}\n",
    "    ),\n",
    "    Document(\n",
    "        page_content=\"Cats are independent pets that often enjoy their own space.\",\n",
    "        metadata={\"source\": \"mammal-pets-doc\"},\n",
    "    ),\n",
    "    Document(\n",
    "        page_content=\"Goldfish are popular pets for beginners, requiring relatively simple care.\",\n",
    "        metadata={\"source\": \"fish-pets-doc\"},\n",
    "    ),\n",
    "    Document(\n",
    "        page_content=\"Parrots are intelligent birds capable of mimicking human speech.\",\n",
    "        metadata={\"source\": \"bird-pets-doc\"},\n",
    "    ),\n",
    "    Document(\n",
    "        page_content=\"Rabbits are social animals that need plenty of space to hop around.\",\n",
    "        metadata={\"source\": \"mammal-pets-doc\"},\n",
    "    ), \n",
    "]\n",
    "\n",
    "documents"
   ]
  },
  {
   "cell_type": "code",
   "execution_count": null,
   "id": "49b921c5",
   "metadata": {},
   "outputs": [
    {
     "name": "stderr",
     "output_type": "stream",
     "text": [
      "c:\\Users\\ahmed\\anaconda3\\envs\\genenv\\Lib\\site-packages\\tqdm\\auto.py:21: TqdmWarning: IProgress not found. Please update jupyter and ipywidgets. See https://ipywidgets.readthedocs.io/en/stable/user_install.html\n",
      "  from .autonotebook import tqdm as notebook_tqdm\n"
     ]
    }
   ],
   "source": [
    "# Lets Embedding Documents\n",
    "# HuggingFaceEmbeddings => on huggingface web in sentence transformer site\n",
    "from langchain_huggingface import HuggingFaceEmbeddings\n",
    "embeddings=HuggingFaceEmbeddings(model_name=\"all-MiniLM-L6-v2\")"
   ]
  },
  {
   "cell_type": "code",
   "execution_count": null,
   "id": "12695301",
   "metadata": {},
   "outputs": [
    {
     "data": {
      "text/plain": [
       "<langchain_chroma.vectorstores.Chroma at 0x20608b96210>"
      ]
     },
     "execution_count": 6,
     "metadata": {},
     "output_type": "execute_result"
    }
   ],
   "source": [
    "## Vectore Stores\n",
    "from langchain_chroma import Chroma\n",
    "\n",
    "# here we convert text to vectore and store in db\n",
    "vectorstore=Chroma.from_documents(documents,embedding=embeddings)\n",
    "vectorstore\n"
   ]
  },
  {
   "cell_type": "code",
   "execution_count": 7,
   "id": "38df543e",
   "metadata": {},
   "outputs": [
    {
     "data": {
      "text/plain": [
       "[Document(id='2a46fc95-100c-4a45-937a-bf9a819d2b57', metadata={'source': 'mammal-pets-doc'}, page_content='Cats are independent pets that often enjoy their own space.'),\n",
       " Document(id='db00e989-5a5a-4249-baab-276221f7cfc9', metadata={'source': 'mammal-pets-doc'}, page_content='Dogs are great companions, know for their loyalty and friendliness.'),\n",
       " Document(id='67fcb40a-5f91-4bd7-b6d6-3f9305759b88', metadata={'source': 'mammal-pets-doc'}, page_content='Rabbits are social animals that need plenty of space to hop around.'),\n",
       " Document(id='e7375d52-eb7c-4339-84e9-f419cabe8e41', metadata={'source': 'bird-pets-doc'}, page_content='Parrots are intelligent birds capable of mimicking human speech.')]"
      ]
     },
     "execution_count": 7,
     "metadata": {},
     "output_type": "execute_result"
    }
   ],
   "source": [
    "vectorstore.similarity_search('cat')"
   ]
  },
  {
   "cell_type": "code",
   "execution_count": 8,
   "id": "d97cd48a",
   "metadata": {},
   "outputs": [
    {
     "data": {
      "text/plain": [
       "[(Document(id='2a46fc95-100c-4a45-937a-bf9a819d2b57', metadata={'source': 'mammal-pets-doc'}, page_content='Cats are independent pets that often enjoy their own space.'),\n",
       "  0.9351057410240173),\n",
       " (Document(id='db00e989-5a5a-4249-baab-276221f7cfc9', metadata={'source': 'mammal-pets-doc'}, page_content='Dogs are great companions, know for their loyalty and friendliness.'),\n",
       "  1.5318481922149658),\n",
       " (Document(id='67fcb40a-5f91-4bd7-b6d6-3f9305759b88', metadata={'source': 'mammal-pets-doc'}, page_content='Rabbits are social animals that need plenty of space to hop around.'),\n",
       "  1.5956902503967285),\n",
       " (Document(id='e7375d52-eb7c-4339-84e9-f419cabe8e41', metadata={'source': 'bird-pets-doc'}, page_content='Parrots are intelligent birds capable of mimicking human speech.'),\n",
       "  1.6657923460006714)]"
      ]
     },
     "execution_count": 8,
     "metadata": {},
     "output_type": "execute_result"
    }
   ],
   "source": [
    "vectorstore.similarity_search_with_score('cat')"
   ]
  },
  {
   "cell_type": "markdown",
   "id": "8e15163a",
   "metadata": {},
   "source": [
    "<div dir=\"rtl\">\n",
    "\n",
    "# 🟢 asimilarity_search باختصار\n",
    "\n",
    "- **asimilarity_search** = Asynchronous Similarity Search.\n",
    "- نفس فكرة `similarity_search` (تدور على أقرب المستندات بالكلمات).\n",
    "- الفرق:  \n",
    "  ✅ **Async** → بتشتغل بـ `await` بدون تعطيل باقي الكود.\n",
    "\n",
    "## 🕒 إمتى تستخدمها؟\n",
    "- في التطبيقات السريعة (Web, API, Chatbots).\n",
    "- عشان الكود يكمل شغله وانت مستني النتيجة."
   ]
  },
  {
   "cell_type": "code",
   "execution_count": 10,
   "id": "e08821e1",
   "metadata": {},
   "outputs": [
    {
     "data": {
      "text/plain": [
       "[Document(id='2a46fc95-100c-4a45-937a-bf9a819d2b57', metadata={'source': 'mammal-pets-doc'}, page_content='Cats are independent pets that often enjoy their own space.'),\n",
       " Document(id='db00e989-5a5a-4249-baab-276221f7cfc9', metadata={'source': 'mammal-pets-doc'}, page_content='Dogs are great companions, know for their loyalty and friendliness.'),\n",
       " Document(id='67fcb40a-5f91-4bd7-b6d6-3f9305759b88', metadata={'source': 'mammal-pets-doc'}, page_content='Rabbits are social animals that need plenty of space to hop around.'),\n",
       " Document(id='e7375d52-eb7c-4339-84e9-f419cabe8e41', metadata={'source': 'bird-pets-doc'}, page_content='Parrots are intelligent birds capable of mimicking human speech.')]"
      ]
     },
     "execution_count": 10,
     "metadata": {},
     "output_type": "execute_result"
    }
   ],
   "source": [
    "await vectorstore.asimilarity_search('cat')"
   ]
  },
  {
   "cell_type": "markdown",
   "id": "d7f980b1",
   "metadata": {},
   "source": [
    "<div dir=\"rtl\">\n",
    "\n",
    "# 🟢 Retrievers في LangChain\n",
    "\n",
    "## ✅ الفكرة ببساطة:\n",
    "- **VectorStore** مش بيدعم **Runnable** (مش بيتوصل مباشر في LangChain Expression Language chains).\n",
    "- **Retrievers** بيدعموا Runnable → يعني ينفع توصلهم في سلاسل LCEL بسهولة.\n",
    "\n",
    "## ✅ الفرق الرئيسي:\n",
    "| VectorStore | Retriever |\n",
    "|-------------|-----------|\n",
    "| بيعمل similarity_search | Runnable (ينفذ invoke, async, batch) |\n",
    "| مش بيشتغل في LCEL مباشرة | مصمم يتوصل في LCEL chains |\n",
    "\n",
    "## ✅ طيب ليه نستخدم Retriever؟\n",
    "- بيدي **واجهة موحدة** للتعامل (sync/async/batch).\n",
    "- بيسهل ربطه في **LangChain pipelines**.\n",
    "- بيدعم أدوات تانية زي **contextual compression, filters, MMR...**.\n",
    "\n"
   ]
  },
  {
   "cell_type": "markdown",
   "id": "44ab0a70",
   "metadata": {},
   "source": [
    "<div dir=\"rtl\">\n",
    "\n",
    "# 🟢 يعني إيه عملية Retrieve؟\n",
    "\n",
    "## ✅ الفكرة في كلمة:\n",
    "**Retrieve = أجيب معلومة من الداتا اللي عندي (Vector Store) تكون شبه السؤال اللي جالي.**\n",
    "\n",
    "## ✅ خطوات عملية الـ Retrieve ببساطة:\n",
    "1. المستخدم بيسأل سؤال (Query).\n",
    "2. نحول السؤال ده لــ **Vector** (أرقام تمثل معنى السؤال).\n",
    "3. نقارن الــ Vector ده مع Vectors مخزنة عندي (Documents chunks).\n",
    "4. نرجّع أقرب الحاجات اللي شبه السؤال (Similarity Search).\n",
    "5. الموديل يستخدم النتيجة دي في الإجابة.\n",
    "\n",
    "## ✅ مثال بسيط:\n",
    "لو سألت:  \n",
    "🗣️ \"إيه هو الـ LangChain؟\"  \n",
    "هيجيب أقرب Document فيه تعريف LangChain ويرجعه.\n",
    "\n",
    "## ✅ ملحوظة:\n",
    "- VectorStore = مكان متخزن فيه المستندات كـ Vectors.\n",
    "- Retriever = الكود اللي بيعمل العملية دي ويرجعلك الـ context المناسب.\n",
    "\n",
    "</div>\n"
   ]
  },
  {
   "cell_type": "code",
   "execution_count": 14,
   "id": "1ec3553a",
   "metadata": {},
   "outputs": [
    {
     "data": {
      "text/plain": [
       "[[Document(id='2a46fc95-100c-4a45-937a-bf9a819d2b57', metadata={'source': 'mammal-pets-doc'}, page_content='Cats are independent pets that often enjoy their own space.')],\n",
       " [Document(id='db00e989-5a5a-4249-baab-276221f7cfc9', metadata={'source': 'mammal-pets-doc'}, page_content='Dogs are great companions, know for their loyalty and friendliness.')]]"
      ]
     },
     "execution_count": 14,
     "metadata": {},
     "output_type": "execute_result"
    }
   ],
   "source": [
    "from typing import List\n",
    "from langchain_core.documents import Document\n",
    "from langchain_core.runnables import RunnableLambda\n",
    "\n",
    "retriever = RunnableLambda(vectorstore.similarity_search).bind(k=1) \n",
    "# k => هات دوك واحد بس اللى هو اقرب واحد\n",
    "# هنا مستخدمين batch يعني هندخل كذا مره وكل مره ليها خرج لوحده\n",
    "# فهو هيجيب اقرب دوك لكل كلمه على حدي\n",
    "# ليه دوك واحد لكل واحدة علشان ال k = 1\n",
    "\n",
    "retriever.batch(['cat', 'dog'])\n"
   ]
  },
  {
   "cell_type": "markdown",
   "id": "375c4cde",
   "metadata": {},
   "source": [
    "<div dir=\"rtl\">\n",
    "\n",
    "# 🟢 VectorStore → Retriever (as_retriever)\n",
    "\n",
    "## ✅ الفكرة:\n",
    "- أي **VectorStore** عنده ميثود اسمها `as_retriever()`.\n",
    "- بتطلعلك **Retriever** جاهز (نوعه: VectorStoreRetriever).\n",
    "\n",
    "## ✅ ليه مهم؟\n",
    "- عشان تربطه مباشرة مع LangChain chains كـ Runnable.\n",
    "- بيحدد:\n",
    "  - **search_type** → طريقة البحث (similarity / mmr / etc).\n",
    "  - **search_kwargs** → إعدادات للبحث (زي top_k مثلاً)."
   ]
  },
  {
   "cell_type": "code",
   "execution_count": null,
   "id": "d106b550",
   "metadata": {},
   "outputs": [
    {
     "data": {
      "text/plain": [
       "[[Document(id='2a46fc95-100c-4a45-937a-bf9a819d2b57', metadata={'source': 'mammal-pets-doc'}, page_content='Cats are independent pets that often enjoy their own space.')],\n",
       " [Document(id='db00e989-5a5a-4249-baab-276221f7cfc9', metadata={'source': 'mammal-pets-doc'}, page_content='Dogs are great companions, know for their loyalty and friendliness.')]]"
      ]
     },
     "execution_count": 15,
     "metadata": {},
     "output_type": "execute_result"
    }
   ],
   "source": [
    "# نفس اللى عملناه فوق بس حولناه ل Retriever علشان نعرف ندخله ف Chain\n",
    "retriever = vectorstore.as_retriever(\n",
    "    search_type = 'similarity', # طريقة ايجاد الدوك الاقرب للى بندور عليه\n",
    "    search_kwargs = {'k':1} # عايزه يرجع اقرب كام واحدة\n",
    ")\n",
    "\n",
    "retriever.batch(['Cat', 'Dog'])"
   ]
  },
  {
   "cell_type": "markdown",
   "id": "d82e07d3",
   "metadata": {},
   "source": [
    "# Rag Example"
   ]
  },
  {
   "cell_type": "code",
   "execution_count": 30,
   "id": "c8ac13ae",
   "metadata": {},
   "outputs": [
    {
     "name": "stdout",
     "output_type": "stream",
     "text": [
      "According to the provided context, dogs are great companions, known for their loyalty and friendliness.\n"
     ]
    }
   ],
   "source": [
    "from langchain_core.prompts import ChatPromptTemplate\n",
    "from langchain_core.runnables import RunnablePassthrough\n",
    "\n",
    "message = \"\"\"\n",
    "Answer This Question using the provieded contect only.\n",
    "{question}\n",
    "context:\n",
    "{context}\n",
    "\"\"\" \n",
    "\n",
    "prompt = ChatPromptTemplate.from_messages([('human', message)])\n",
    "rag_chain = {'context': retriever, 'question': RunnablePassthrough()}|prompt|model\n",
    "response=rag_chain.invoke(\"tell me about dogs\")\n",
    "print(response.content)"
   ]
  },
  {
   "cell_type": "markdown",
   "id": "2fbd7b0b",
   "metadata": {},
   "source": [
    "<div dir='rtl'>\n",
    "- ده Pipeline (سلسلة) ماشية كالتالي:\n",
    "\n",
    "- بياخد input (زي: \"tell me about dogs\").\n",
    "\n",
    "- بيوديه للـ Retriever → يسترجع له context مناسب.\n",
    "\n",
    "- بيعدي على RunnablePassthrough → ده بيعدي السؤال زي ما هو (ملوش شغل غير التمرير).\n",
    "\n",
    "- بيملأ الـ Prompt بالقيم.\n",
    "\n",
    "- بعدين بيروح للـ model يجاوب."
   ]
  },
  {
   "cell_type": "code",
   "execution_count": null,
   "id": "21290dd8",
   "metadata": {},
   "outputs": [],
   "source": []
  }
 ],
 "metadata": {
  "kernelspec": {
   "display_name": "genenv",
   "language": "python",
   "name": "python3"
  },
  "language_info": {
   "codemirror_mode": {
    "name": "ipython",
    "version": 3
   },
   "file_extension": ".py",
   "mimetype": "text/x-python",
   "name": "python",
   "nbconvert_exporter": "python",
   "pygments_lexer": "ipython3",
   "version": "3.12.8"
  }
 },
 "nbformat": 4,
 "nbformat_minor": 5
}
